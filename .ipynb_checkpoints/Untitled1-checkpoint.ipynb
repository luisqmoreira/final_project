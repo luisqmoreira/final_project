{
 "cells": [
  {
   "cell_type": "code",
   "execution_count": 1,
   "id": "88876ba0-a3ef-4ecb-adc5-8f077ea06530",
   "metadata": {},
   "outputs": [],
   "source": [
    "from urllib.request import Request, urlopen\n",
    "from bs4 import BeautifulSoup\n",
    "import requests"
   ]
  },
  {
   "cell_type": "code",
   "execution_count": 2,
   "id": "c297ef7f-57fc-4810-8255-d89ac16af36c",
   "metadata": {},
   "outputs": [],
   "source": [
    "root = 'https://www.google.com/'\n",
    "link = 'https://www.google.com/search?q=cointelegraph&tbs=cdr:1,cd_min:12/2/2021,cd_max:12/2/2021&tbm=nws&tbas=0&source=lnt&sa=X&ved=2ahUKEwjtpe2Z4MX0AhW0hP0HHXt-AsIQpwV6BAgBECs&biw=1440&bih=789&dpr=2'"
   ]
  },
  {
   "cell_type": "code",
   "execution_count": 10,
   "id": "e5d3fae7-b1c0-4957-ab92-a783b0bf6ac2",
   "metadata": {
    "tags": []
   },
   "outputs": [],
   "source": [
    "req = Request(link, headers={'User-Agent': 'Mozilla/5.0'})\n",
    "webpage = urlopen(req).read()\n",
    "\n",
    "with requests.Session() as c:\n",
    "    soup = BeautifulSoup(webpage, 'html5lib')"
   ]
  },
  {
   "cell_type": "code",
   "execution_count": 13,
   "id": "5985cb8f-28f9-4860-8fd2-8d314eb9eee8",
   "metadata": {},
   "outputs": [],
   "source": [
    "for item in soup.find_all('div', attrs={'class':'vJOb1e'}):\n",
    "    print(item)"
   ]
  },
  {
   "cell_type": "code",
   "execution_count": null,
   "id": "58cb6050-ceb2-4ed5-b13b-eabaaf2a3ca7",
   "metadata": {},
   "outputs": [],
   "source": []
  }
 ],
 "metadata": {
  "kernelspec": {
   "display_name": "Python 3 (ipykernel)",
   "language": "python",
   "name": "python3"
  },
  "language_info": {
   "codemirror_mode": {
    "name": "ipython",
    "version": 3
   },
   "file_extension": ".py",
   "mimetype": "text/x-python",
   "name": "python",
   "nbconvert_exporter": "python",
   "pygments_lexer": "ipython3",
   "version": "3.9.7"
  }
 },
 "nbformat": 4,
 "nbformat_minor": 5
}
